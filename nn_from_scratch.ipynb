{
 "cells": [
  {
   "cell_type": "markdown",
   "metadata": {
    "id": "AjgmEvFKiHAb"
   },
   "source": [
    "## Neural Network from Scratch"
   ]
  },
  {
   "cell_type": "markdown",
   "metadata": {},
   "source": [
    "### Let's try to build a neural network from scratch!!\n",
    "This exercise will help you understand how neural network works.\n"
   ]
  },
  {
   "cell_type": "markdown",
   "metadata": {},
   "source": [
    "#### For this we will be implementing the following steps:\n",
    "##### 1.Initialise the parameters(weights and biases)\n",
    "##### 2.Define forward propogation\n",
    "##### 3.Define backward propagation\n",
    "##### 4.Define fit function\n",
    "##### 5.Define predict function"
   ]
  },
  {
   "cell_type": "code",
   "execution_count": 166,
   "metadata": {},
   "outputs": [],
   "source": [
    "#Importing the necessary libraries\n",
    "\n",
    "import pandas as pd\n",
    "import numpy as np\n",
    "from numpy import random\n",
    "import matplotlib.pyplot as plt"
   ]
  },
  {
   "cell_type": "code",
   "execution_count": 181,
   "metadata": {
    "id": "u1ETel4j6EZU"
   },
   "outputs": [],
   "source": [
    "\"\"\"\n",
    "Generating the data to train and test the model.since we are building a simple neural network, I decided to go with a simple \n",
    "data.If you look closely this is the full adder input which build using logic gates and the output is the sum of the full adder\n",
    "circuit.\n",
    "\"\"\"\n",
    "X = np.array([[0,1,0],\n",
    "                      [0,0,1],\n",
    "                      [1,0,0],\n",
    "                      [1,1,0],\n",
    "                      [1,1,1],\n",
    "                      [0,1,1],\n",
    "                      [0,1,0]])\n",
    "y = np.array([[1,\n",
    "                    0,\n",
    "                    0,\n",
    "                    1,\n",
    "                    1,\n",
    "                    0,\n",
    "                    1]])\n",
    "y = labels.reshape(7,1) #to convert labels to vector"
   ]
  },
  {
   "cell_type": "markdown",
   "metadata": {
    "colab": {
     "base_uri": "https://localhost:8080/",
     "height": 35
    },
    "id": "URc9j-TUYbdE",
    "outputId": "d1f89860-a9cf-4321-89f7-62aab3650ec9"
   },
   "source": [
    "### 1. Initialise weights\n",
    "\n",
    "For any neural network to learn and improve the two most important parameters required are:Weights and bias.These parameters are\n",
    "then changed by the network according to the data with the aim of reducing the loss/cost function so that model has good acccuracy and performance.\n",
    "For the initial step the weights are initialised randomly rather than intialising them as 0.\n",
    "Initialisation of the weights and bias depends on the layer of your network usually the size of the weights(W1) for the first layer in the network in (the no. of columns/features in the training set,the number of neurons in the next hidden layer) in this case since the training data has 3 columns the size will be (3,2).It is not compulsory for you to chose 2 as the number of neurons in \n",
    "the hidden layer it can be any number.\n",
    "\n",
    "Size of the bias(b1) in the first layer will be (the number of neurons in the next layer,)\n",
    "\n",
    "Size of the weight(W2) in the second/hidden layer will be (the number of neurons in the next layer,the number of neurons/classes in the output layer)\n",
    "\n",
    "If you are solving a binary-classification problem like this example then usually your output layer will have one neuron that can hold value 1 or zero.The number of neurons in the last layer changes according to the problem.\n",
    "\n",
    "Size of the bias(b2) of the second layer: (the number of neurons/classes in the output layer,)\n",
    "\n",
    "After intialising we will store these weights and bias in a dictionary that can be used later.\n"
   ]
  },
  {
   "cell_type": "code",
   "execution_count": 182,
   "metadata": {},
   "outputs": [],
   "source": [
    "def init_weights(layers=[]):\n",
    "        params={}\n",
    "        np.random.seed(1) # Seed the random number generator\n",
    "        params[\"W1\"] = np.random.randn(layers[0], layers[1]) \n",
    "        params['b1']  =np.random.randn(layers[1],)\n",
    "        params['W2'] = np.random.randn(layers[1],layers[2]) \n",
    "        params['b2'] = np.random.randn(layers[2],)\n",
    "        \n",
    "        return params"
   ]
  },
  {
   "cell_type": "code",
   "execution_count": 183,
   "metadata": {},
   "outputs": [
    {
     "data": {
      "text/plain": [
       "{'W1': array([[ 1.62434536, -0.61175641],\n",
       "        [-0.52817175, -1.07296862],\n",
       "        [ 0.86540763, -2.3015387 ]]),\n",
       " 'b1': array([ 1.74481176, -0.7612069 ]),\n",
       " 'W2': array([[ 0.3190391 ],\n",
       "        [-0.24937038]]),\n",
       " 'b2': array([1.46210794])}"
      ]
     },
     "execution_count": 183,
     "metadata": {},
     "output_type": "execute_result"
    }
   ],
   "source": [
    "params=init_weights(layers=[3,2,1])\n",
    "params"
   ]
  },
  {
   "cell_type": "markdown",
   "metadata": {},
   "source": [
    "### 2. Define forward propagation\n",
    "\n",
    "In order to understand how we can define a forward propagation we have to first understand how a neural network works.Intially the weights and bias are intialised then these parameters are used to calculate a quantity usually refered as Z.\n",
    "                                     Z= W*X+b\n",
    "                                     where W= weights,X=input,b=bias\n",
    "Once the Z is computed then it is passed through an activation functions.\n",
    "                                   A1=activation(Z)\n",
    "There are many types of activation functions such as relu,tanh,sigmoid,softmax.Usually relu/tanh are used in the hidden layers where as softmax/sigmoid are used in the last/output layer. This process is repeated till we reach the last layer where the output is calculated.After calculating output a loss function is used to calculate the loss of the model.This loss is then used in backpropagation to change the weights and bias such that the loss function reduces.</h4>\n",
    "\n",
    "<h3>Here's a gif to help you visualise the working of a neural network:\n",
    "![nnworking](https://miro.medium.com/max/3000/1*bhFifratH9DjKqMBTeQG5A.gif)\n"
   ]
  },
  {
   "cell_type": "markdown",
   "metadata": {},
   "source": [
    "I tried to give a rough overview of how a neural network works.If you want to get a deeper understanding about the network, you can read this article : <i>https://medium.com/@purnasaigudikandula/a-beginner-intro-to-neural-networks-543267bda3c8 </i>"
   ]
  },
  {
   "cell_type": "code",
   "execution_count": 184,
   "metadata": {},
   "outputs": [],
   "source": [
    "def relu(Z):\n",
    "        '''\n",
    "        The ReLufunction performs a threshold\n",
    "        operation to each input element where values less \n",
    "        than zero are set to zero.\n",
    "        '''\n",
    "        return np.maximum(0, Z)\n",
    "        \n",
    "        \n",
    "def sigmoid(Z):\n",
    "        '''\n",
    "        The sigmoid function takes in real numbers in any range and \n",
    "        squashes it to a real-valued output between 0 and 1.\n",
    "        '''\n",
    "        return 1.0 / (1.0 + np.exp(-Z))\n",
    "    \n",
    "\n"
   ]
  },
  {
   "attachments": {
    "download.png": {
     "image/png": "[encoded data removed]"
    }
   },
   "cell_type": "markdown",
   "metadata": {},
   "source": [
    "Since loss function plays an important role in imporving the accuracy of the model it is important to choose the correct type of loss function that can be used to esitmate the performance of the model.For classification problem we usually use cross_entropy as our loss function where as for regression problems we use mean square error or other regression losses.\n",
    "\n",
    "Formula of cross_entropy: \n",
    "![download.png](attachment:download.png)\n",
    "\n",
    "\n",
    "This formula is implemented in the entropy_loss function that takes actual output and predicted output as inputs and calculates the loss."
   ]
  },
  {
   "cell_type": "code",
   "execution_count": 185,
   "metadata": {},
   "outputs": [],
   "source": [
    "def entropy_loss(y, yhat):\n",
    "        nsample = len(y)\n",
    "        loss = -1/nsample * (np.sum(np.multiply(np.log(yhat), y) + np.multiply((1 - y), np.log(1 - yhat))))\n",
    "        return loss"
   ]
  },
  {
   "cell_type": "markdown",
   "metadata": {},
   "source": [
    "Forward propagation will take in inputs(X,y) and then return the predicted output and loss"
   ]
  },
  {
   "cell_type": "code",
   "execution_count": 186,
   "metadata": {},
   "outputs": [],
   "source": [
    "def forward_propagation(X,y):\n",
    "        '''\n",
    "        Performs the forward propagation\n",
    "        '''\n",
    "        \n",
    "        Z1 = X.dot(params['W1']) + params['b1']\n",
    "        A1 = relu(Z1)\n",
    "        Z2 = A1.dot(params['W2']) + params['b2']\n",
    "        yhat = sigmoid(Z2)\n",
    "        loss = entropy_loss(y,yhat)\n",
    "\n",
    "        # save calculated parameters     \n",
    "        params['Z1'] = Z1\n",
    "        params['Z2'] = Z2\n",
    "        params['A1'] = A1\n",
    "\n",
    "        return yhat,loss"
   ]
  },
  {
   "cell_type": "code",
   "execution_count": 187,
   "metadata": {},
   "outputs": [
    {
     "data": {
      "text/plain": [
       "1.0990247935590556"
      ]
     },
     "execution_count": 187,
     "metadata": {},
     "output_type": "execute_result"
    }
   ],
   "source": [
    "yhat,loss=forward_propagation(X,y)\n",
    "loss"
   ]
  },
  {
   "cell_type": "markdown",
   "metadata": {},
   "source": [
    "#### 3.Define backpropagation\n",
    "Now we have the loss from the forward propagation.Let's use backpropagation to reduce the loss and imporve the performance.\n",
    "It is little tricky to understand how back propagation works, in layman terms we start from the output layer change the weights and bias of that layer and then move into the hidden layer change those values wrt to the out layer weights and bias.Repeat this till we reach the input layer.\n",
    "\n",
    "If you know calculus then the backpropagation is mainly done by computing the derivative of loss wrt weights,bias and activation function.This is done as a derivative will tell how much the loss function changes when we change the weights and bias.In backpropagation the derivative is computed using a rule called chain rule.\n",
    "\n",
    "Here's an article that you can read to understand how these derivates are calculated: \n",
    "<i>https://medium.com/@pdquant/all-the-backpropagation-derivatives-d5275f727f60</i>\n",
    "\n",
    "#### Visualise backpropagation:\n",
    "\n",
    "\n",
    "![backpropagation](https://mlfromscratch.com/content/images/2019/12/overview-nn-optimized.gif)\n"
   ]
  },
  {
   "cell_type": "code",
   "execution_count": 188,
   "metadata": {},
   "outputs": [],
   "source": [
    "def back_propagation(X,y,yhat):\n",
    "        '''\n",
    "        Computes the derivatives and update weights and bias according.\n",
    "        '''\n",
    "        learning_rate=0.01\n",
    "        def dRelu(x):\n",
    "            x[x<=0] = 0\n",
    "            x[x>0] = 1\n",
    "            return x\n",
    "        \n",
    "        dl_wrt_yhat = -(np.divide(y,yhat) - np.divide((1 - y),(1-yhat)))\n",
    "        dl_wrt_sig = yhat * (1-yhat)\n",
    "        dl_wrt_z2 = dl_wrt_yhat * dl_wrt_sig\n",
    "\n",
    "        dl_wrt_A1 = dl_wrt_z2.dot(params['W2'].T)\n",
    "        dl_wrt_w2 = params['A1'].T.dot(dl_wrt_z2)\n",
    "        dl_wrt_b2 = np.sum(dl_wrt_z2, axis=0)\n",
    "\n",
    "        dl_wrt_z1 = dl_wrt_A1 * dRelu(params['Z1'])\n",
    "        dl_wrt_w1 =X.T.dot(dl_wrt_z1)\n",
    "        dl_wrt_b1 = np.sum(dl_wrt_z1, axis=0)\n",
    "\n",
    "        #update the weights and bias\n",
    "        params['W1'] = params['W1'] - learning_rate * dl_wrt_w1\n",
    "        params['W2'] = params['W2'] - learning_rate * dl_wrt_w2\n",
    "        params['b1'] = params['b1'] - learning_rate * dl_wrt_b1\n",
    "        params['b2'] =params['b2'] - learning_rate * dl_wrt_b2\n"
   ]
  },
  {
   "cell_type": "markdown",
   "metadata": {},
   "source": [
    "#### Define a fit function\n",
    "\n",
    "Now we are implemented foward and backward propagation seperately.It is time for us to combine them and call them recursively.This is done using a fit function.Fit function usually runs for certain number of time ,this number is usually called epochs.One epoch means passing the entire data one time to model.\n",
    "\n",
    "For this example I ran the training data for 200 epochs and each time I called the forward_propagation got the predicted value vector and loss value.Passed that value to backpropagation, here the weights and bias are updated in order to reduce the loss function.To monitor how the loss is changing in each epoch I used a list to store the loss value after each iteration.Later I print those loss values to see if the loss is decreasing or increasing after every epoch."
   ]
  },
  {
   "cell_type": "code",
   "execution_count": 203,
   "metadata": {},
   "outputs": [],
   "source": [
    "def fit(X, y):\n",
    "    Loss=[]\n",
    "\n",
    "    for i in range(100):\n",
    "        yhat, loss = forward_propagation(X,y)\n",
    "        back_propagation(X,y,yhat)\n",
    "        \n",
    "        Loss.append(loss)\n",
    "        \n",
    "       \n",
    "    return Loss"
   ]
  },
  {
   "cell_type": "code",
   "execution_count": 204,
   "metadata": {},
   "outputs": [
    {
     "name": "stdout",
     "output_type": "stream",
     "text": [
      "[0.3511467444665201, 0.34994519653375106, 0.3487459637961401, 0.3475490571901554, 0.346354486837742, 0.34516226207581696, 0.3440326043633848, 0.34310081455800356, 0.3421799848081703, 0.3412687025385637, 0.3403657190031814, 0.33946993122712726, 0.33858036581262213, 0.33769616443927136, 0.3368165708998287, 0.3359409195240859, 0.3350686248548307, 0.3341991724508379, 0.333332110702462, 0.332467043555476, 0.3316036240482973, 0.33074154857661114, 0.3298805518076456, 0.32902040217396444, 0.32816089788363606, 0.32730186339004436, 0.3264431462704434, 0.3255846144676733, 0.3247261538542585, 0.3238676660824716, 0.3230090666878634, 0.32215028341730045, 0.32129125475572196, 0.3204319286286862, 0.3195722612603173, 0.31871221616855955, 0.317851763281674, 0.31699087816174404, 0.3161295413225674, 0.3152677376307674, 0.3144054557802367, 0.3135426878311653, 0.31267942880592886, 0.3118156763350075, 0.31095143034690204, 0.31008669279673023, 0.3092214674288056, 0.30835575956905886, 0.3074895759436536, 0.3066229245205821, 0.30575581437140836, 0.3048882555506684, 0.30402025899073215, 0.30315183641020255, 0.3022830002341504, 0.3014137635246997, 0.3005441399206511, 0.2996741435849955, 0.29880378915930605, 0.2979330917241268, 0.2970620667645776, 0.2961907301404961, 0.29531909806052054, 0.2944471870595895, 0.29357501397940106, 0.29270259595143167, 0.2918299503821644, 0.2909570949402195, 0.2900840475451186, 0.289210826357454, 0.2883374497702515, 0.28746393640135576, 0.28659030508667843, 0.2857165748741765, 0.2848427650184435, 0.2839688949758094, 0.2830949843998623, 0.28222105313731466, 0.2813471212241461, 0.28047320888196703, 0.2795993365145509, 0.278725524704495, 0.2778517942099689, 0.27697816596152286, 0.2761046610589245, 0.2752313007680049, 0.2743581065174912, 0.27348509989580966, 0.27261230264784553, 0.2717397366716468, 0.27086742401506414, 0.26999538687231545, 0.2691236475804721, 0.2682522286158581, 0.2673811525903616, 0.2665104422476529, 0.2656401204593065, 0.26477021022082986, 0.2639007346475915, 0.2630317169706544]\n"
     ]
    }
   ],
   "source": [
    "loss=fit(X,y)\n",
    "print(loss)\n"
   ]
  },
  {
   "cell_type": "markdown",
   "metadata": {},
   "source": [
    "#### Visualise loss function\n",
    "\n",
    "This is a small plot function I wrote to help me visualise the function after every iteration.The X-value denotes the number of iterations/epochs and the y-value denotes the loss at that particular iteration."
   ]
  },
  {
   "cell_type": "code",
   "execution_count": 205,
   "metadata": {},
   "outputs": [],
   "source": [
    "def plot(loss):\n",
    "    plt.plot(loss)\n",
    "    plt.xlabel('Iteration')\n",
    "    plt.ylabel('Loss')\n",
    "    plt.title('Loss Visualisation')\n",
    "    return plt.show()"
   ]
  },
  {
   "cell_type": "code",
   "execution_count": 206,
   "metadata": {},
   "outputs": [
    {
     "data": {
      "image/png": "[encoded data removed]",
      "text/plain": [
       "<Figure size 432x288 with 1 Axes>"
      ]
     },
     "metadata": {
      "needs_background": "light"
     },
     "output_type": "display_data"
    }
   ],
   "source": [
    "plot(loss)"
   ]
  },
  {
   "cell_type": "markdown",
   "metadata": {},
   "source": [
    "#### Predict Function\n",
    "\n",
    "Finally!!\n",
    "After implementing the fit function and visualising the loss function.Its time to test our model!\n",
    "We will give a similar input to the model and check if it's giving correct output or not.\n",
    "\n",
    "The predict function calculates the Z1,a1,Z2 and y_pred values similar to the way it is calculated in the forward_propagation.As we are saving the weights and bias updates in the params dictionary initialised earlier.When we call those values,we are in turn using the updated weights and bias.\n",
    "\n",
    "To test our model I have passed the input =[0,0,0] which it has never seen before!The correct output of this input is 0.\n",
    "Let's find out what our model predicts."
   ]
  },
  {
   "cell_type": "code",
   "execution_count": 207,
   "metadata": {},
   "outputs": [],
   "source": [
    "def predict(input_value):\n",
    "    Z1=np.dot(input_value,params[\"W1\"])+params[\"b1\"]\n",
    "    a1=relu(Z1)\n",
    "    Z2=np.dot(a1,params[\"W2\"])+params[\"b2\"]\n",
    "    y_pred=sigmoid(Z2)\n",
    "    return np.round(y_pred,0)"
   ]
  },
  {
   "cell_type": "code",
   "execution_count": 208,
   "metadata": {},
   "outputs": [
    {
     "data": {
      "text/plain": [
       "array([0.])"
      ]
     },
     "execution_count": 208,
     "metadata": {},
     "output_type": "execute_result"
    }
   ],
   "source": [
    "y_pred=predict([0,0,0])\n",
    "y_pred"
   ]
  },
  {
   "cell_type": "markdown",
   "metadata": {},
   "source": [
    "### Yay!We got the correct output.This shows that our model has good performance.This is a very basic implementation of a neural network.A deeper neural network with many layers and parameters can be implemented to solve real world problems.\n",
    "\n"
   ]
  },
  {
   "cell_type": "markdown",
   "metadata": {},
   "source": [
    "### I would encourage all of you to implement a similar neural network on your own and train it on your own data and test it's performance.This will help you to get a deeper insight about how a neural network works and how it can be build from scratch without using any pre-build functions from keras or tensorflow!"
   ]
  },
  {
   "cell_type": "code",
   "execution_count": null,
   "metadata": {},
   "outputs": [],
   "source": []
  }
 ],
 "metadata": {
  "colab": {
   "collapsed_sections": [],
   "name": "nn-from-scratch.ipynb",
   "provenance": []
  },
  "kernelspec": {
   "display_name": "Python 3",
   "language": "python",
   "name": "python3"
  },
  "language_info": {
   "codemirror_mode": {
    "name": "ipython",
    "version": 3
   },
   "file_extension": ".py",
   "mimetype": "text/x-python",
   "name": "python",
   "nbconvert_exporter": "python",
   "pygments_lexer": "ipython3",
   "version": "3.8.3"
  }
 },
 "nbformat": 4,
 "nbformat_minor": 1
}
